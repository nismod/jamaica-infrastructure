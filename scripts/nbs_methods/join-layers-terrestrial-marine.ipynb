{
 "cells": [
  {
   "cell_type": "code",
   "execution_count": null,
   "id": "99aa90f6",
   "metadata": {},
   "outputs": [],
   "source": [
    "import os\n",
    "\n",
    "import geopandas\n",
    "import numpy\n",
    "import pandas\n",
    "import rasterio\n",
    "from shapely.geometry import Polygon\n",
    "from tqdm.notebook import tqdm"
   ]
  },
  {
   "cell_type": "code",
   "execution_count": null,
   "id": "e1c204f3",
   "metadata": {},
   "outputs": [],
   "source": [
    "# May need to change working directory - TODO load from config\n",
    "# os.cwd('/path/to/processed_data/nbs')"
   ]
  },
  {
   "attachments": {},
   "cell_type": "markdown",
   "id": "076a81b0",
   "metadata": {},
   "source": [
    "# Terrestrial - by cell prototype"
   ]
  },
  {
   "cell_type": "code",
   "execution_count": null,
   "id": "442717ef",
   "metadata": {},
   "outputs": [],
   "source": [
    "cell_number = 124"
   ]
  },
  {
   "cell_type": "code",
   "execution_count": null,
   "id": "5eb45487",
   "metadata": {},
   "outputs": [],
   "source": [
    "grid = geopandas.read_file('../grid_10km.gpkg').set_index('link_id')\n",
    "cell = grid.loc[cell_number]\n",
    "cell"
   ]
  },
  {
   "cell_type": "code",
   "execution_count": null,
   "id": "27fe0b24",
   "metadata": {},
   "outputs": [],
   "source": [
    "subcells = geopandas.read_file('../grid_1km.gpkg') \\\n",
    "    .query(f'fid == {cell_number}') \\\n",
    "    .explode(index_parts=False) \\\n",
    "    .reset_index(drop=True)\n",
    "subcells"
   ]
  },
  {
   "cell_type": "code",
   "execution_count": null,
   "id": "70844770",
   "metadata": {},
   "outputs": [],
   "source": [
    "df = geopandas.read_file(f'land_use_slope/extracts/jamaica_land_use_combined_with_sectors_and_slope__{cell_number-1}.gpkg')"
   ]
  },
  {
   "cell_type": "code",
   "execution_count": null,
   "id": "ba0c35b3",
   "metadata": {},
   "outputs": [],
   "source": [
    "df = df[['Classify', 'LU_CODE', 'cell_index', 'slope_degrees', 'geometry']] \\\n",
    "  .rename(columns={'Classify': 'landuse_desc', 'LU_CODE': 'landuse_code'})\n",
    "df"
   ]
  },
  {
   "cell_type": "code",
   "execution_count": null,
   "id": "a1825819",
   "metadata": {},
   "outputs": [],
   "source": [
    "def associate_raster(fname, df, key, band_number=1, cell_index_col=\"cell_index\"):\n",
    "    with rasterio.open(fname) as dataset:\n",
    "        assert df.crs == dataset.crs, \"Raster and vector CRS must match\"\n",
    "        band_data = dataset.read(band_number)\n",
    "        flat_data = band_data.flatten()\n",
    "        df[key] = df[cell_index_col].apply(lambda i: flat_data[i])\n",
    "    return df"
   ]
  },
  {
   "cell_type": "code",
   "execution_count": null,
   "id": "d810c91c",
   "metadata": {},
   "outputs": [],
   "source": [
    "with_elevation = associate_raster('land_use_slope/elevation.tif', df, 'elevation_m')\n",
    "with_elevation.elevation_m = numpy.clip(with_elevation.elevation_m, -100, 2256)"
   ]
  },
  {
   "cell_type": "code",
   "execution_count": null,
   "id": "47c567a3",
   "metadata": {},
   "outputs": [],
   "source": [
    "def slice_vector(slice_df, slice_cell):\n",
    "    slice_df = slice_df \\\n",
    "        .cx[slice_cell.left:slice_cell.right, slice_cell.bottom:slice_cell.top] \\\n",
    "        .copy()\n",
    "    slice_df.geometry = slice_df.geometry.intersection(slice_cell.geometry)\n",
    "    return slice_df\n",
    "\n",
    "def associate_vector(fname, data_df, cell, subcells, select_cols):\n",
    "    vector_df = geopandas.read_file(fname) \\\n",
    "        [list(select_cols.keys()) + ['geometry']] \\\n",
    "        .explode(index_parts=False) \\\n",
    "        .rename(columns=select_cols) \\\n",
    "        .copy()\n",
    "    vector_df = slice_vector(vector_df, cell)\n",
    "    if vector_df.empty:\n",
    "        for col in select_cols.values():\n",
    "            data_df[col] = None\n",
    "        return data_df\n",
    "    \n",
    "    chunks = []\n",
    "    chunk_size = 100\n",
    "    for lower in tqdm(range(0, len(data_df), chunk_size)):\n",
    "        chunk = data_df[lower:lower+chunk_size].copy()\n",
    "        try:\n",
    "            chunk = chunk.overlay(vector_df, how='identity', keep_geom_type=True)\n",
    "        except ValueError:\n",
    "            # probably had nothing to overlay\n",
    "            for col in select_cols.values():\n",
    "                chunk[col] = None\n",
    "        chunks.append(chunk)\n",
    "#    for subcell in tqdm(subcells.itertuples(), total=len(subcells)):\n",
    "#        df_chunk = slice_vector(data_df, subcell)\n",
    "#        if df_chunk.empty:\n",
    "#            continue\n",
    "#        vector_chunk = slice_vector(vector_df, subcell)\n",
    "#        if vector_chunk.empty:\n",
    "#            chunks.append(df_chunk)\n",
    "#        else:\n",
    "#            chunk = df_chunk.overlay(vector_chunk, how='identity')\n",
    "#            chunks.append(chunk)\n",
    "        \n",
    "    return pandas.concat(chunks)"
   ]
  },
  {
   "cell_type": "code",
   "execution_count": null,
   "id": "6e6e47b5",
   "metadata": {},
   "outputs": [],
   "source": [
    "with_soils = associate_vector(\n",
    "    'soils/nsmdb-soils.gpkg', with_elevation, cell, subcells,\n",
    "    {'Type':'soil_type', 'Permeability Code': 'hydrologic_soil_group_code'})"
   ]
  },
  {
   "cell_type": "code",
   "execution_count": null,
   "id": "9101f9db",
   "metadata": {},
   "outputs": [],
   "source": [
    "#with_erosion = associate_vector(\n",
    "#    'Terrestrial\\Soil erosion susceptibility\\Erosion susceptibility by land cover\\Soil erosion susceptibility and land use intersect.shp',\n",
    "#    with_soils, cell, subcells\n",
    "#    {'Classes':'erosion_susceptibility'})"
   ]
  },
  {
   "cell_type": "code",
   "execution_count": null,
   "id": "4238a518",
   "metadata": {},
   "outputs": [],
   "source": [
    "with_bauxite = associate_vector(\n",
    "    'Terrestrial/Bauxite/nsmdb-bauxite_reserves.gpkg', with_soils, cell, subcells,\n",
    "    {'COLOR': 'within_bauxite_area'})\n",
    "with_bauxite.within_bauxite_area = ~with_bauxite.within_bauxite_area.isna()"
   ]
  },
  {
   "cell_type": "code",
   "execution_count": null,
   "id": "53dd7af2",
   "metadata": {},
   "outputs": [],
   "source": [
    "with_primary_forest = associate_vector(\n",
    "    'Terrestrial\\Forests\\Forests buffered 100m\\Primary forest buffered 100m.shp', with_bauxite, cell, subcells,\n",
    "    {'LU_CODE': 'within_forest_100m'})\n",
    "with_primary_forest.within_forest_100m = (with_primary_forest.within_forest_100m == 'PF')"
   ]
  },
  {
   "cell_type": "code",
   "execution_count": null,
   "id": "86a0c035",
   "metadata": {},
   "outputs": [],
   "source": [
    "with_forest_reserves = associate_vector(\n",
    "    'Protected Sites\\Forest Reserves\\Forest Reserves.shp', with_primary_forest, cell, subcells, \n",
    "    {'NAME':'forest_reserve_name'})\n",
    "with_forest_reserves['within_forest_reserve'] = ~with_forest_reserves.forest_reserve_name.isna()"
   ]
  },
  {
   "cell_type": "code",
   "execution_count": null,
   "id": "5eb85125",
   "metadata": {},
   "outputs": [],
   "source": [
    "protected_areas = geopandas.read_file('Protected Sites\\Protected Areas\\Protected areas.shp')"
   ]
  },
  {
   "cell_type": "code",
   "execution_count": null,
   "id": "2105ffb2",
   "metadata": {},
   "outputs": [],
   "source": [
    "# for layer in protected_areas.LAYER.unique():\n",
    "#     protected_area_type = protected_areas[protected_areas.LAYER == layer].copy()\n",
    "#     protected_area_type.to_file(f'Protected Sites\\Protected Areas\\protected_areas_{layer}.gpkg', index=False)"
   ]
  },
  {
   "cell_type": "code",
   "execution_count": null,
   "id": "aa5188bb",
   "metadata": {},
   "outputs": [],
   "source": [
    "with_protected = with_forest_reserves\n",
    "for layer in protected_areas.LAYER.unique():\n",
    "    with_protected = associate_vector(\n",
    "        f'Protected Sites\\Protected Areas\\protected_areas_{layer}.gpkg', \n",
    "        with_protected, cell, subcells, \n",
    "        {'NAME':f'protected_area_{layer}_name'})\n",
    "with_protected['is_protected'] = ~(\n",
    "    with_protected.protected_area_GAME_RESERVES_name.isna() |\n",
    "    with_protected.protected_area_NATIONAL_PARK_name.isna() |\n",
    "    with_protected.protected_area_PROTECTED_AREA_name.isna() |\n",
    "    with_protected.protected_area_MARINE_PARK_name.isna()\n",
    ")\n",
    "with_protected['is_proposed_protected'] = ~with_protected.protected_area_PROPOSED_PROTECTED_AREA_name.isna()"
   ]
  },
  {
   "cell_type": "code",
   "execution_count": null,
   "id": "ee4df5b0",
   "metadata": {},
   "outputs": [],
   "source": [
    "with_major = associate_vector(\n",
    "    'Terrestrial/Riparian NbS/Rivers buffered 50m/Major rivers/Major rivers buffered 50m.gpkg',\n",
    "    with_protected, cell, subcells,\n",
    "    {'OBJECTID_1': 'within_major_river_50m'})\n",
    "with_major.within_major_river_50m = ~with_major.within_major_river_50m.isna()"
   ]
  },
  {
   "cell_type": "code",
   "execution_count": null,
   "id": "f7cc6c04",
   "metadata": {},
   "outputs": [],
   "source": [
    "with_stream = associate_vector(\n",
    "    'Terrestrial/Riparian NbS/Rivers buffered 50m/Large streams/Large steams buffered 50m.gpkg',\n",
    "    with_major, cell, subcells,\n",
    "    {'OBJECTID': 'within_large_stream_50m'})\n",
    "with_stream.within_large_stream_50m = ~with_stream.within_large_stream_50m.isna()"
   ]
  },
  {
   "cell_type": "code",
   "execution_count": null,
   "id": "b001dd7c",
   "metadata": {},
   "outputs": [],
   "source": [
    "with_headwater = associate_vector(\n",
    "    'Terrestrial/Riparian NbS/Rivers buffered 50m/Headwater streams/Headwater streams buffered 50m.gpkg',\n",
    "    with_stream, cell, subcells,\n",
    "    {'OBJECTID': 'within_headwater_stream_50m'})\n",
    "with_headwater.within_headwater_stream_50m = ~with_headwater.within_headwater_stream_50m.isna()"
   ]
  },
  {
   "attachments": {},
   "cell_type": "markdown",
   "id": "4fa037a5",
   "metadata": {},
   "source": [
    "# Marine"
   ]
  },
  {
   "cell_type": "code",
   "execution_count": null,
   "id": "1a7febe0",
   "metadata": {},
   "outputs": [],
   "source": [
    "def associate_vector_direct(vector_df, data_df):    \n",
    "    select_cols = [c for c in vector_df.columns if c != 'geometry']\n",
    "    chunks = []\n",
    "    chunk_size = 10\n",
    "    for lower in tqdm(range(0, len(data_df), chunk_size)):\n",
    "        chunk = data_df[lower:lower+chunk_size].copy()\n",
    "        try:\n",
    "            chunk = chunk.overlay(vector_df, how='identity', keep_geom_type=True)\n",
    "        except ValueError:\n",
    "            # probably had nothing to overlay\n",
    "            for col in select_cols:\n",
    "                chunk[col] = None\n",
    "        chunks.append(chunk)        \n",
    "    return pandas.concat(chunks)"
   ]
  },
  {
   "cell_type": "code",
   "execution_count": null,
   "id": "8453e1b9",
   "metadata": {},
   "outputs": [],
   "source": [
    "marine_combined = geopandas.read_file('Marine/marine_grid_10km.gpkg') \\\n",
    "    [['geometry']]"
   ]
  },
  {
   "cell_type": "code",
   "execution_count": null,
   "id": "70292cdb",
   "metadata": {},
   "outputs": [],
   "source": [
    "seagrass = geopandas.read_file('Marine/Baseline coastal ecosystems/Seagrass/Seagrass.shp') \\\n",
    "    [['geometry']]\n",
    "seagrass['is_seagrass'] = True\n",
    "seagrass = seagrass.dissolve().explode(index_parts=False)\n",
    "seagrass.head()"
   ]
  },
  {
   "cell_type": "code",
   "execution_count": null,
   "id": "ef8c2a94",
   "metadata": {},
   "outputs": [],
   "source": [
    "coral = geopandas.read_file('Marine/Baseline coastal ecosystems/Coral Reefs/Coral Reefs.shp') \\\n",
    "    [['TNC_L4L3', 'geometry']] \\\n",
    "    .rename(columns={'TNC_L4L3': 'coral_type'})\n",
    "coral['is_coral'] = True\n",
    "coral.head(2)"
   ]
  },
  {
   "cell_type": "code",
   "execution_count": null,
   "id": "33a77195",
   "metadata": {},
   "outputs": [],
   "source": [
    "mangrove = geopandas.read_file('Marine/Baseline coastal ecosystems/Mangroves (Forces of Nature)\\mangroves.shp') \\\n",
    "    [['TYPE', 'geometry']] \\\n",
    "    .rename(columns={'TYPE': 'mangrove_type'})\n",
    "mangrove['is_mangrove'] = True\n",
    "mangrove.head(2)"
   ]
  },
  {
   "cell_type": "code",
   "execution_count": null,
   "id": "954ccd8c",
   "metadata": {},
   "outputs": [],
   "source": [
    "marine_combined = associate_vector_direct(seagrass, marine_combined)"
   ]
  },
  {
   "cell_type": "code",
   "execution_count": null,
   "id": "6ee2ba9a",
   "metadata": {},
   "outputs": [],
   "source": [
    "marine_combined = associate_vector_direct(coral, marine_combined)"
   ]
  },
  {
   "cell_type": "code",
   "execution_count": null,
   "id": "3871722b",
   "metadata": {},
   "outputs": [],
   "source": [
    "marine_combined = associate_vector_direct(mangrove, marine_combined)"
   ]
  },
  {
   "cell_type": "code",
   "execution_count": null,
   "id": "8287a4b1",
   "metadata": {},
   "outputs": [],
   "source": [
    "for buffer in [500]:\n",
    "    seagrass_buffer = seagrass.copy().drop(columns='is_seagrass')\n",
    "    seagrass_buffer.geometry = seagrass.buffer(buffer)\n",
    "    seagrass_buffer[f'within_seagrass_{buffer}m'] = True\n",
    "    seagrass_buffer = seagrass_buffer.dissolve().explode(index_parts=False)\n",
    "    marine_combined = associate_vector_direct(seagrass_buffer, marine_combined)"
   ]
  },
  {
   "cell_type": "code",
   "execution_count": null,
   "id": "f9d24406",
   "metadata": {},
   "outputs": [],
   "source": [
    "for buffer in [500]:\n",
    "    coral_buffer = coral.copy().drop(columns=['is_coral', 'coral_type'])\n",
    "    coral_buffer.geometry = coral.buffer(buffer)\n",
    "    coral_buffer[f'within_coral_{buffer}m'] = True\n",
    "    coral_buffer = coral_buffer.dissolve().explode(index_parts=False)\n",
    "    marine_combined = associate_vector_direct(coral_buffer, marine_combined)"
   ]
  },
  {
   "cell_type": "code",
   "execution_count": null,
   "id": "e434294f",
   "metadata": {},
   "outputs": [],
   "source": [
    "for buffer in [500]:\n",
    "    mangrove_buffer = mangrove.copy().drop(columns=['is_mangrove', 'mangrove_type'])\n",
    "    mangrove_buffer.geometry = mangrove.buffer(buffer)\n",
    "    mangrove_buffer[f'within_mangrove_{buffer}m'] = True\n",
    "    mangrove_buffer = mangrove_buffer.dissolve().explode(index_parts=False)\n",
    "    marine_combined = associate_vector_direct(mangrove_buffer, marine_combined)"
   ]
  },
  {
   "cell_type": "code",
   "execution_count": null,
   "id": "b28aaa04",
   "metadata": {},
   "outputs": [],
   "source": [
    "try:\n",
    "    marine_combined = marine_combined.drop(columns=['left', 'top', 'right', 'bottom', 'id'])\n",
    "except KeyError:\n",
    "    pass\n",
    "marine_combined.columns"
   ]
  },
  {
   "cell_type": "code",
   "execution_count": null,
   "id": "c06e4b40",
   "metadata": {},
   "outputs": [],
   "source": [
    "data_cols = [c for c in marine_combined.columns if c != 'geometry']\n",
    "marine_combined = marine_combined.dropna(how='all', subset=data_cols)"
   ]
  },
  {
   "cell_type": "code",
   "execution_count": null,
   "id": "eca2c596",
   "metadata": {},
   "outputs": [],
   "source": [
    "marine_combined.to_file('Marine/marine_combined.gpkg')"
   ]
  }
 ],
 "metadata": {
  "kernelspec": {
   "display_name": "Python 3 (ipykernel)",
   "language": "python",
   "name": "python3"
  },
  "language_info": {
   "codemirror_mode": {
    "name": "ipython",
    "version": 3
   },
   "file_extension": ".py",
   "mimetype": "text/x-python",
   "name": "python",
   "nbconvert_exporter": "python",
   "pygments_lexer": "ipython3",
   "version": "3.11.0"
  }
 },
 "nbformat": 4,
 "nbformat_minor": 5
}
