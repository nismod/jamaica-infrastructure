{
 "cells": [
  {
   "cell_type": "code",
   "execution_count": null,
   "id": "45135ece",
   "metadata": {},
   "outputs": [],
   "source": [
    "import sys\n",
    "import os\n",
    "import pandas as pd\n",
    "import geopandas as gpd\n",
    "import numpy as np\n",
    "from utils import *\n",
    "from tqdm import tqdm\n",
    "tqdm.pandas()"
   ]
  },
  {
   "cell_type": "code",
   "execution_count": null,
   "id": "4c018f80",
   "metadata": {},
   "outputs": [],
   "source": [
    "# Specify the data folder paths where all datasets as stored\n",
    "config = load_config()\n",
    "incoming_data_path = config['paths']['incoming_data']\n",
    "processed_data_path = config['paths']['data']\n",
    "\n",
    "nbs_input_data_path = os.path.join(incoming_data_path,\"nbs\")\n",
    "# The projection system for Jamaica\n",
    "epsg_jamaica = 3448"
   ]
  },
  {
   "cell_type": "code",
   "execution_count": null,
   "id": "8e373195",
   "metadata": {},
   "outputs": [],
   "source": [
    "# Specify the input layers we want to create buffers around and intersect\n",
    "natural_layers = [\"nsmdb-mangroves.gpkg\",\n",
    "                 \"nsmdb-seagrass.gpkg\",\n",
    "                 \"nsmdb-reefs_jan06_NEPA.gpkg\"]\n",
    "output_layer_name = [\"mangroves\",\n",
    "                     \"seagrass\",\n",
    "                     \"corals\"]\n",
    "# Buffer distances in meters\n",
    "buffer_distances = [100,250,500,1000]"
   ]
  },
  {
   "cell_type": "code",
   "execution_count": null,
   "id": "f0ea6951",
   "metadata": {},
   "outputs": [],
   "source": [
    "# Create a for loop over the buffer distances and the layer \n",
    "# Add the buffer to the geometry of the layer \n",
    "# Write the result to a new geopackage file\n",
    "for buffer in buffer_distances:\n",
    "    for i,(input_layer,output_layer) in enumerate(list(zip(natural_layers,output_layer_name))):\n",
    "        # Read a Geopackage layer or shapefile\n",
    "        get_layer = gpd.read_file(os.path.join(nbs_input_data_path,\n",
    "                                                input_layer))\n",
    "        # Reproject to Jamaica projection system\n",
    "        get_layer = get_layer.to_crs(epsg=epsg_jamaica)\n",
    "        # Create buffer around geometry \n",
    "        get_layer[\"geometry\"] = get_layer.progress_apply(\n",
    "                        lambda x: x.geometry.buffer(buffer),\n",
    "                        axis=1)\n",
    "        get_layer.to_file(os.path.join(processed_data_path,\n",
    "                                       \"nbs\",\n",
    "                                       f\"{output_layer}_buffer.gpkg\"),\n",
    "                                          layer=f\"{buffer}m\",\n",
    "                                         driver=\"GPKG\")"
   ]
  },
  {
   "cell_type": "code",
   "execution_count": null,
   "id": "33f87d81",
   "metadata": {},
   "outputs": [],
   "source": [
    "# Intersect the different buffer layers to find common areas\n",
    "# Buffer distances in meters\n",
    "buffer_distances = [250,500,1000]\n",
    "intersection_layers = [\"mangroves\",\n",
    "                     \"seagrass\",\n",
    "                     \"corals\"]\n",
    "for buffer in buffer_distances:\n",
    "    for i in range(len(intersection_layers)-1):\n",
    "        name_i = intersection_layers[i] \n",
    "        for j in intersection_layers[i+1:]:\n",
    "            name_j = j\n",
    "            layer_i = gpd.read_file(os.path.join(processed_data_path,\n",
    "                                       \"nbs\",\n",
    "                                       f\"{name_i}_buffer.gpkg\"),\n",
    "                                          layer=f\"{buffer}m\")\n",
    "            layer_i.rename(columns={\"ID\":f\"{name_i}_id\"},inplace=True)\n",
    "            layer_j = gpd.read_file(os.path.join(processed_data_path,\n",
    "                                       \"nbs\",\n",
    "                                       f\"{name_j}_buffer.gpkg\"),\n",
    "                                          layer=f\"{buffer}m\")\n",
    "            layer_j.rename(columns={\"ID\":f\"{name_j}_id\"},inplace=True)\n",
    "            common_ij = gpd.sjoin(layer_i,layer_j,\n",
    "                                  how=\"inner\",\n",
    "                                  predicate=\"intersects\").reset_index()\n",
    "            common_ij.rename(columns={\"geometry\":\"layer_i_geometry\"},\n",
    "                             inplace=True)\n",
    "            common_ij = pd.merge(common_ij,\n",
    "                                 layer_j[[f\"{name_j}_id\",\"geometry\"]],\n",
    "                                 how=\"left\",on=[f\"{name_j}_id\"])\n",
    "            common_ij.rename(columns={\"geometry\":\"layer_j_geometry\"},\n",
    "                             inplace=True)\n",
    "            common_ij[\"geometry\"] = common_ij.progress_apply(\n",
    "                lambda x:x.layer_i_geometry.intersection(x.layer_j_geometry)\n",
    "                ,axis=1)\n",
    "            common_ij.drop([\"layer_i_geometry\",\"layer_j_geometry\"],\n",
    "                           axis=1,\n",
    "                           inplace=True)\n",
    "            common_ij = gpd.GeoDataFrame(common_ij,\n",
    "                             geometry=\"geometry\",\n",
    "                             crs=f\"EPSG:{epsg_jamaica}\")\n",
    "            common_ij.to_file(os.path.join(processed_data_path,\n",
    "                            \"nbs\",\n",
    "                            f\"{name_i}_{name_j}_intersections.gpkg\"),\n",
    "                            layer=f\"{buffer}m\",\n",
    "                            driver=\"GPKG\")"
   ]
  },
  {
   "cell_type": "code",
   "execution_count": null,
   "id": "f7375883",
   "metadata": {},
   "outputs": [],
   "source": []
  }
 ],
 "metadata": {
  "kernelspec": {
   "display_name": "Python 3 (ipykernel)",
   "language": "python",
   "name": "python3"
  },
  "language_info": {
   "codemirror_mode": {
    "name": "ipython",
    "version": 3
   },
   "file_extension": ".py",
   "mimetype": "text/x-python",
   "name": "python",
   "nbconvert_exporter": "python",
   "pygments_lexer": "ipython3",
   "version": "3.9.7"
  }
 },
 "nbformat": 4,
 "nbformat_minor": 5
}
