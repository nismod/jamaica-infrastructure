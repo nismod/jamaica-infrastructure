{
 "cells": [
  {
   "cell_type": "code",
   "execution_count": 2,
   "id": "45135ece",
   "metadata": {},
   "outputs": [],
   "source": [
    "import sys\n",
    "import os\n",
    "import pandas as pd\n",
    "import geopandas as gpd\n",
    "import numpy as np\n",
    "from utils import *\n",
    "from tqdm import tqdm\n",
    "tqdm.pandas()"
   ]
  },
  {
   "cell_type": "code",
   "execution_count": 3,
   "id": "4c018f80",
   "metadata": {},
   "outputs": [],
   "source": [
    "# Specify the data folder paths where all datasets as stored\n",
    "config = load_config()\n",
    "incoming_data_path = config['paths']['incoming_data']\n",
    "processed_data_path = config['paths']['data']\n",
    "\n",
    "nbs_input_data_path = os.path.join(incoming_data_path,\"nbs\")\n",
    "# The projection system for Jamaica\n",
    "epsg_jamaica = 3448"
   ]
  },
  {
   "cell_type": "code",
   "execution_count": 4,
   "id": "8e373195",
   "metadata": {},
   "outputs": [],
   "source": [
    "# Specify the input layers we want to create buffers around and intersect\n",
    "natural_layers = [\"nsmdb-mangroves.gpkg\",\n",
    "                 \"nsmdb-seagrass.gpkg\",\n",
    "                 \"nsmdb-reefs_jan06_NEPA.gpkg\"]\n",
    "output_layer_name = [\"mangroves\",\n",
    "                     \"seagrass\",\n",
    "                     \"corals\"]\n",
    "# Buffer distances in meters\n",
    "buffer_distances = [100,250,500,1000]"
   ]
  },
  {
   "cell_type": "code",
   "execution_count": 5,
   "id": "f0ea6951",
   "metadata": {
    "scrolled": true
   },
   "outputs": [
    {
     "name": "stderr",
     "output_type": "stream",
     "text": [
      "100%|█████████████████████████████████████████████████████████████████████████████████| 182/182 [00:00<00:00, 3364.33it/s]\n",
      "100%|██████████████████████████████████████████████████████████████████████████████████| 409/409 [00:00<00:00, 931.63it/s]\n",
      " 97%|███████████████████████████████████████████████████████████████████████████████▏  | 643/666 [00:02<00:00, 171.34it/s]/Users/raghavpant/miniconda3/envs/py39/lib/python3.9/site-packages/pandas/core/dtypes/cast.py:1990: ShapelyDeprecationWarning: __len__ for multi-part geometries is deprecated and will be removed in Shapely 2.0. Check the length of the `geoms` property instead to get the  number of parts of a multi-part geometry.\n",
      "  result[:] = values\n",
      "100%|███████████████████████████████████████████████████████████████████████████████████| 666/666 [00:12<00:00, 53.30it/s]\n",
      "100%|█████████████████████████████████████████████████████████████████████████████████| 182/182 [00:00<00:00, 2892.10it/s]\n",
      "100%|██████████████████████████████████████████████████████████████████████████████████| 409/409 [00:02<00:00, 198.79it/s]\n",
      " 98%|█████████████████████████████████████████████████████████████████████████████████▊ | 656/666 [00:34<00:02,  3.75it/s]/Users/raghavpant/miniconda3/envs/py39/lib/python3.9/site-packages/pandas/core/dtypes/cast.py:1990: ShapelyDeprecationWarning: __len__ for multi-part geometries is deprecated and will be removed in Shapely 2.0. Check the length of the `geoms` property instead to get the  number of parts of a multi-part geometry.\n",
      "  result[:] = values\n",
      "100%|███████████████████████████████████████████████████████████████████████████████████| 666/666 [00:34<00:00, 19.04it/s]\n",
      "100%|█████████████████████████████████████████████████████████████████████████████████| 182/182 [00:00<00:00, 2167.49it/s]\n",
      "100%|███████████████████████████████████████████████████████████████████████████████████| 409/409 [00:04<00:00, 91.52it/s]\n",
      " 98%|█████████████████████████████████████████████████████████████████████████████████▊ | 656/666 [01:37<00:08,  1.14it/s]/Users/raghavpant/miniconda3/envs/py39/lib/python3.9/site-packages/pandas/core/dtypes/cast.py:1990: ShapelyDeprecationWarning: __len__ for multi-part geometries is deprecated and will be removed in Shapely 2.0. Check the length of the `geoms` property instead to get the  number of parts of a multi-part geometry.\n",
      "  result[:] = values\n",
      "100%|███████████████████████████████████████████████████████████████████████████████████| 666/666 [01:38<00:00,  6.79it/s]\n",
      "100%|█████████████████████████████████████████████████████████████████████████████████| 182/182 [00:00<00:00, 1524.21it/s]\n",
      "100%|███████████████████████████████████████████████████████████████████████████████████| 409/409 [00:10<00:00, 40.29it/s]\n",
      " 98%|█████████████████████████████████████████████████████████████████████████████████▊ | 656/666 [05:24<00:57,  5.74s/it]/Users/raghavpant/miniconda3/envs/py39/lib/python3.9/site-packages/pandas/core/dtypes/cast.py:1990: ShapelyDeprecationWarning: __len__ for multi-part geometries is deprecated and will be removed in Shapely 2.0. Check the length of the `geoms` property instead to get the  number of parts of a multi-part geometry.\n",
      "  result[:] = values\n",
      "100%|███████████████████████████████████████████████████████████████████████████████████| 666/666 [05:25<00:00,  2.05it/s]\n"
     ]
    }
   ],
   "source": [
    "# Create a for loop over the buffer distances and the layer \n",
    "# Add the buffer to the geometry of the layer \n",
    "# Write the result to a new geopackage file\n",
    "for buffer in buffer_distances:\n",
    "    for i,(input_layer,output_layer) in enumerate(list(zip(natural_layers,output_layer_name))):\n",
    "        # Read a Geopackage layer or shapefile\n",
    "        get_layer = gpd.read_file(os.path.join(nbs_input_data_path,\n",
    "                                                input_layer))\n",
    "        # Reproject to Jamaica projection system\n",
    "        get_layer = get_layer.to_crs(epsg=epsg_jamaica)\n",
    "        # Create buffer around geometry \n",
    "        get_layer[\"geometry\"] = get_layer.progress_apply(\n",
    "                        lambda x: x.geometry.buffer(buffer),\n",
    "                        axis=1)\n",
    "        get_layer.to_file(os.path.join(processed_data_path,\n",
    "                                       \"nbs\",\n",
    "                                       f\"{output_layer}_buffer.gpkg\"),\n",
    "                                          layer=f\"{buffer}m\",\n",
    "                                         driver=\"GPKG\")"
   ]
  },
  {
   "cell_type": "code",
   "execution_count": 8,
   "id": "33f87d81",
   "metadata": {},
   "outputs": [
    {
     "name": "stderr",
     "output_type": "stream",
     "text": [
      "  0%|                                                                                             | 0/375 [00:00<?, ?it/s]/Users/raghavpant/miniconda3/envs/py39/lib/python3.9/site-packages/pandas/core/dtypes/cast.py:1990: ShapelyDeprecationWarning: __len__ for multi-part geometries is deprecated and will be removed in Shapely 2.0. Check the length of the `geoms` property instead to get the  number of parts of a multi-part geometry.\n",
      "  result[:] = values\n",
      "100%|█████████████████████████████████████████████████████████████████████████████████| 375/375 [00:00<00:00, 6379.05it/s]\n"
     ]
    },
    {
     "ename": "CPLE_AppDefinedError",
     "evalue": "b'failed to prepare SQL: SELECT \"fid\", ST_MinX(\"geom\"), ST_MaxX(\"geom\"), ST_MinY(\"geom\"), ST_MaxY(\"geom\") FROM \"250m\" WHERE \"geom\" NOT NULL AND NOT ST_IsEmpty(\"geom\")'",
     "output_type": "error",
     "traceback": [
      "\u001b[0;31m---------------------------------------------------------------------------\u001b[0m",
      "\u001b[0;31mRuntimeError\u001b[0m                              Traceback (most recent call last)",
      "File \u001b[0;32m~/miniconda3/envs/py39/lib/python3.9/site-packages/geopandas/io/file.py:396\u001b[0m, in \u001b[0;36m_to_file\u001b[0;34m(df, filename, driver, schema, index, mode, crs, **kwargs)\u001b[0m\n\u001b[1;32m    393\u001b[0m \u001b[38;5;28;01mwith\u001b[39;00m fiona\u001b[38;5;241m.\u001b[39mopen(\n\u001b[1;32m    394\u001b[0m     filename, mode\u001b[38;5;241m=\u001b[39mmode, driver\u001b[38;5;241m=\u001b[39mdriver, crs_wkt\u001b[38;5;241m=\u001b[39mcrs_wkt, schema\u001b[38;5;241m=\u001b[39mschema, \u001b[38;5;241m*\u001b[39m\u001b[38;5;241m*\u001b[39mkwargs\n\u001b[1;32m    395\u001b[0m ) \u001b[38;5;28;01mas\u001b[39;00m colxn:\n\u001b[0;32m--> 396\u001b[0m     \u001b[43mcolxn\u001b[49m\u001b[38;5;241;43m.\u001b[39;49m\u001b[43mwriterecords\u001b[49m\u001b[43m(\u001b[49m\u001b[43mdf\u001b[49m\u001b[38;5;241;43m.\u001b[39;49m\u001b[43miterfeatures\u001b[49m\u001b[43m(\u001b[49m\u001b[43m)\u001b[49m\u001b[43m)\u001b[49m\n",
      "File \u001b[0;32m~/miniconda3/envs/py39/lib/python3.9/site-packages/fiona/collection.py:361\u001b[0m, in \u001b[0;36mCollection.writerecords\u001b[0;34m(self, records)\u001b[0m\n\u001b[1;32m    360\u001b[0m     \u001b[38;5;28;01mraise\u001b[39;00m \u001b[38;5;167;01mIOError\u001b[39;00m(\u001b[38;5;124m\"\u001b[39m\u001b[38;5;124mcollection not open for writing\u001b[39m\u001b[38;5;124m\"\u001b[39m)\n\u001b[0;32m--> 361\u001b[0m \u001b[38;5;28;43mself\u001b[39;49m\u001b[38;5;241;43m.\u001b[39;49m\u001b[43msession\u001b[49m\u001b[38;5;241;43m.\u001b[39;49m\u001b[43mwriterecs\u001b[49m\u001b[43m(\u001b[49m\u001b[43mrecords\u001b[49m\u001b[43m,\u001b[49m\u001b[43m \u001b[49m\u001b[38;5;28;43mself\u001b[39;49m\u001b[43m)\u001b[49m\n\u001b[1;32m    362\u001b[0m \u001b[38;5;28mself\u001b[39m\u001b[38;5;241m.\u001b[39m_len \u001b[38;5;241m=\u001b[39m \u001b[38;5;28mself\u001b[39m\u001b[38;5;241m.\u001b[39msession\u001b[38;5;241m.\u001b[39mget_length()\n",
      "File \u001b[0;32mfiona/ogrext.pyx:1295\u001b[0m, in \u001b[0;36mfiona.ogrext.WritingSession.writerecs\u001b[0;34m()\u001b[0m\n",
      "\u001b[0;31mRuntimeError\u001b[0m: GDAL Error: sqlite3_exec(CREATE TABLE \"250m\" ( \"fid\" INTEGER PRIMARY KEY AUTOINCREMENT NOT NULL, \"geom\" GEOMETRY, \"index\" INTEGER, \"TARGET\" TEXT, \"CONDITION\" REAL, \"GEOCLIMATI\" TEXT, \"MARXAN_COD\" REAL, \"HECTARES_left\" REAL, \"mangroves_id\" REAL, \"TYPE\" TEXT, \"AREA\" REAL, \"PERIMETER\" REAL, \"Shape_Leng_left\" REAL, \"Shape_Area_left\" REAL, \"Parish\" TEXT, \"index_right\" INTEGER, \"OBJECTID\" INTEGER, \"SOURCE_TYP\" TEXT, \"MXAN_CODE\" REAL, \"AREA_METER\" REAL, \"HECTARES_right\" REAL, \"seagrass_id\" REAL, \"Shape_Leng_right\" REAL, \"PARISH\" TEXT, \"Shape_Length\" REAL, \"Shape_Area_right\" REAL)) failed: duplicate column name: PARISH \n \n Failed to write record: {'id': '0', 'type': 'Feature', 'properties': {'AREA': 23274.596, 'AREA_METER': 64787.477, 'CONDITION': 1.0, 'GEOCLIMATI': 'Moist_Limestone', 'HECTARES_left': 2.327, 'HECTARES_right': 6.479, 'MARXAN_COD': 403.0, 'MXAN_CODE': 405.0, 'OBJECTID': 150, 'PARISH': 'St. James', 'PERIMETER': 667.507, 'Parish': 'St. James', 'SOURCE_TYP': 'Coastal Atlas and expert opinion', 'Shape_Area_left': 23274.5957031, 'Shape_Area_right': 64787.47859614829, 'Shape_Leng_left': 667.507032258, 'Shape_Leng_right': 1679.86380031, 'Shape_Length': 1679.8638003072056, 'TARGET': 'Mangrove', 'TYPE': 'Fringing', 'index': 1, 'index_right': 149, 'mangroves_id': 2.0, 'seagrass_id': 150.0}, 'geometry': {'type': 'Polygon', 'coordinates': (((665154.5087335106, 707969.2373126171), (665171.2910521209, 707951.9038482156), (665186.3243743919, 707933.0333837913), (665199.4686871269, 707912.8016698546), (665210.6015704628, 707891.3971349443), (665219.6193380313, 707869.0191306953), (665226.438002644, 707845.876075171), (665230.9940585092, 707822.1835117588), (665232.4058793919, 707807.1174457284), (665226.5320402335, 707812.4409692475), (665210.0557586309, 707830.6190139836), (665195.4405747892, 707850.3244844717), (665182.8272409184, 707871.3676062587), (665172.3372303188, 707893.5457225787), (665164.0715675268, 707916.6452460475), (665158.1098553935, 707940.4437156268), (665154.509508466, 707964.7119390452), (665154.2774275539, 707969.4341274654), (665154.5087335106, 707969.2373126171)),)}}",
      "\nDuring handling of the above exception, another exception occurred:\n",
      "\u001b[0;31mCPLE_AppDefinedError\u001b[0m                      Traceback (most recent call last)",
      "File \u001b[0;32mfiona/_err.pyx:201\u001b[0m, in \u001b[0;36mfiona._err.GDALErrCtxManager.__exit__\u001b[0;34m()\u001b[0m\n",
      "\u001b[0;31mCPLE_AppDefinedError\u001b[0m: b'failed to prepare SQL: SELECT \"fid\", ST_MinX(\"geom\"), ST_MaxX(\"geom\"), ST_MinY(\"geom\"), ST_MaxY(\"geom\") FROM \"250m\" WHERE \"geom\" NOT NULL AND NOT ST_IsEmpty(\"geom\")'"
     ]
    },
    {
     "name": "stderr",
     "output_type": "stream",
     "text": [
      "Exception ignored in: 'fiona._shim.gdal_flush_cache'\n",
      "Traceback (most recent call last):\n",
      "  File \"fiona/_err.pyx\", line 201, in fiona._err.GDALErrCtxManager.__exit__\n",
      "fiona._err.CPLE_AppDefinedError: b'failed to prepare SQL: SELECT \"fid\", ST_MinX(\"geom\"), ST_MaxX(\"geom\"), ST_MinY(\"geom\"), ST_MaxY(\"geom\") FROM \"250m\" WHERE \"geom\" NOT NULL AND NOT ST_IsEmpty(\"geom\")'\n"
     ]
    },
    {
     "ename": "RuntimeError",
     "evalue": "GDAL Error: sqlite3_exec(CREATE TABLE \"250m\" ( \"fid\" INTEGER PRIMARY KEY AUTOINCREMENT NOT NULL, \"geom\" GEOMETRY, \"index\" INTEGER, \"TARGET\" TEXT, \"CONDITION\" REAL, \"GEOCLIMATI\" TEXT, \"MARXAN_COD\" REAL, \"HECTARES_left\" REAL, \"mangroves_id\" REAL, \"TYPE\" TEXT, \"AREA\" REAL, \"PERIMETER\" REAL, \"Shape_Leng_left\" REAL, \"Shape_Area_left\" REAL, \"Parish\" TEXT, \"index_right\" INTEGER, \"OBJECTID\" INTEGER, \"SOURCE_TYP\" TEXT, \"MXAN_CODE\" REAL, \"AREA_METER\" REAL, \"HECTARES_right\" REAL, \"seagrass_id\" REAL, \"Shape_Leng_right\" REAL, \"PARISH\" TEXT, \"Shape_Length\" REAL, \"Shape_Area_right\" REAL)) failed: duplicate column name: PARISH \n \n Failed to write record: {'id': '0', 'type': 'Feature', 'properties': {'AREA': 23274.596, 'AREA_METER': 64787.477, 'CONDITION': 1.0, 'GEOCLIMATI': 'Moist_Limestone', 'HECTARES_left': 2.327, 'HECTARES_right': 6.479, 'MARXAN_COD': 403.0, 'MXAN_CODE': 405.0, 'OBJECTID': 150, 'PARISH': 'St. James', 'PERIMETER': 667.507, 'Parish': 'St. James', 'SOURCE_TYP': 'Coastal Atlas and expert opinion', 'Shape_Area_left': 23274.5957031, 'Shape_Area_right': 64787.47859614829, 'Shape_Leng_left': 667.507032258, 'Shape_Leng_right': 1679.86380031, 'Shape_Length': 1679.8638003072056, 'TARGET': 'Mangrove', 'TYPE': 'Fringing', 'index': 1, 'index_right': 149, 'mangroves_id': 2.0, 'seagrass_id': 150.0}, 'geometry': {'type': 'Polygon', 'coordinates': (((665154.5087335106, 707969.2373126171), (665171.2910521209, 707951.9038482156), (665186.3243743919, 707933.0333837913), (665199.4686871269, 707912.8016698546), (665210.6015704628, 707891.3971349443), (665219.6193380313, 707869.0191306953), (665226.438002644, 707845.876075171), (665230.9940585092, 707822.1835117588), (665232.4058793919, 707807.1174457284), (665226.5320402335, 707812.4409692475), (665210.0557586309, 707830.6190139836), (665195.4405747892, 707850.3244844717), (665182.8272409184, 707871.3676062587), (665172.3372303188, 707893.5457225787), (665164.0715675268, 707916.6452460475), (665158.1098553935, 707940.4437156268), (665154.509508466, 707964.7119390452), (665154.2774275539, 707969.4341274654), (665154.5087335106, 707969.2373126171)),)}}",
     "output_type": "error",
     "traceback": [
      "\u001b[0;31m---------------------------------------------------------------------------\u001b[0m",
      "\u001b[0;31mRuntimeError\u001b[0m                              Traceback (most recent call last)",
      "Input \u001b[0;32mIn [8]\u001b[0m, in \u001b[0;36m<module>\u001b[0;34m\u001b[0m\n\u001b[1;32m     35\u001b[0m common_ij\u001b[38;5;241m.\u001b[39mdrop([\u001b[38;5;124m\"\u001b[39m\u001b[38;5;124mlayer_i_geometry\u001b[39m\u001b[38;5;124m\"\u001b[39m,\u001b[38;5;124m\"\u001b[39m\u001b[38;5;124mlayer_j_geometry\u001b[39m\u001b[38;5;124m\"\u001b[39m],\n\u001b[1;32m     36\u001b[0m                axis\u001b[38;5;241m=\u001b[39m\u001b[38;5;241m1\u001b[39m,\n\u001b[1;32m     37\u001b[0m                inplace\u001b[38;5;241m=\u001b[39m\u001b[38;5;28;01mTrue\u001b[39;00m)\n\u001b[1;32m     38\u001b[0m common_ij \u001b[38;5;241m=\u001b[39m gpd\u001b[38;5;241m.\u001b[39mGeoDataFrame(common_ij,\n\u001b[1;32m     39\u001b[0m                  geometry\u001b[38;5;241m=\u001b[39m\u001b[38;5;124m\"\u001b[39m\u001b[38;5;124mgeometry\u001b[39m\u001b[38;5;124m\"\u001b[39m,\n\u001b[1;32m     40\u001b[0m                  crs\u001b[38;5;241m=\u001b[39m\u001b[38;5;124mf\u001b[39m\u001b[38;5;124m\"\u001b[39m\u001b[38;5;124mEPSG:\u001b[39m\u001b[38;5;132;01m{\u001b[39;00mepsg_jamaica\u001b[38;5;132;01m}\u001b[39;00m\u001b[38;5;124m\"\u001b[39m)\n\u001b[0;32m---> 41\u001b[0m \u001b[43mcommon_ij\u001b[49m\u001b[38;5;241;43m.\u001b[39;49m\u001b[43mto_file\u001b[49m\u001b[43m(\u001b[49m\u001b[43mos\u001b[49m\u001b[38;5;241;43m.\u001b[39;49m\u001b[43mpath\u001b[49m\u001b[38;5;241;43m.\u001b[39;49m\u001b[43mjoin\u001b[49m\u001b[43m(\u001b[49m\u001b[43mprocessed_data_path\u001b[49m\u001b[43m,\u001b[49m\n\u001b[1;32m     42\u001b[0m \u001b[43m                \u001b[49m\u001b[38;5;124;43m\"\u001b[39;49m\u001b[38;5;124;43mnbs\u001b[39;49m\u001b[38;5;124;43m\"\u001b[39;49m\u001b[43m,\u001b[49m\n\u001b[1;32m     43\u001b[0m \u001b[43m                \u001b[49m\u001b[38;5;124;43mf\u001b[39;49m\u001b[38;5;124;43m\"\u001b[39;49m\u001b[38;5;132;43;01m{\u001b[39;49;00m\u001b[43mname_i\u001b[49m\u001b[38;5;132;43;01m}\u001b[39;49;00m\u001b[38;5;124;43m_\u001b[39;49m\u001b[38;5;132;43;01m{\u001b[39;49;00m\u001b[43mname_j\u001b[49m\u001b[38;5;132;43;01m}\u001b[39;49;00m\u001b[38;5;124;43m_intersections.gpkg\u001b[39;49m\u001b[38;5;124;43m\"\u001b[39;49m\u001b[43m)\u001b[49m\u001b[43m,\u001b[49m\n\u001b[1;32m     44\u001b[0m \u001b[43m                \u001b[49m\u001b[43mlayer\u001b[49m\u001b[38;5;241;43m=\u001b[39;49m\u001b[38;5;124;43mf\u001b[39;49m\u001b[38;5;124;43m\"\u001b[39;49m\u001b[38;5;132;43;01m{\u001b[39;49;00m\u001b[43mbuffer\u001b[49m\u001b[38;5;132;43;01m}\u001b[39;49;00m\u001b[38;5;124;43mm\u001b[39;49m\u001b[38;5;124;43m\"\u001b[39;49m\u001b[43m,\u001b[49m\n\u001b[1;32m     45\u001b[0m \u001b[43m                \u001b[49m\u001b[43mdriver\u001b[49m\u001b[38;5;241;43m=\u001b[39;49m\u001b[38;5;124;43m\"\u001b[39;49m\u001b[38;5;124;43mGPKG\u001b[39;49m\u001b[38;5;124;43m\"\u001b[39;49m\u001b[43m)\u001b[49m\n",
      "File \u001b[0;32m~/miniconda3/envs/py39/lib/python3.9/site-packages/geopandas/geodataframe.py:1114\u001b[0m, in \u001b[0;36mGeoDataFrame.to_file\u001b[0;34m(self, filename, driver, schema, index, **kwargs)\u001b[0m\n\u001b[1;32m   1053\u001b[0m \u001b[38;5;124;03m\"\"\"Write the ``GeoDataFrame`` to a file.\u001b[39;00m\n\u001b[1;32m   1054\u001b[0m \n\u001b[1;32m   1055\u001b[0m \u001b[38;5;124;03mBy default, an ESRI shapefile is written, but any OGR data source\u001b[39;00m\n\u001b[0;32m   (...)\u001b[0m\n\u001b[1;32m   1110\u001b[0m \u001b[38;5;124;03m>>> gdf.to_file('dataframe.shp', mode=\"a\")  # doctest: +SKIP\u001b[39;00m\n\u001b[1;32m   1111\u001b[0m \u001b[38;5;124;03m\"\"\"\u001b[39;00m\n\u001b[1;32m   1112\u001b[0m \u001b[38;5;28;01mfrom\u001b[39;00m \u001b[38;5;21;01mgeopandas\u001b[39;00m\u001b[38;5;21;01m.\u001b[39;00m\u001b[38;5;21;01mio\u001b[39;00m\u001b[38;5;21;01m.\u001b[39;00m\u001b[38;5;21;01mfile\u001b[39;00m \u001b[38;5;28;01mimport\u001b[39;00m _to_file\n\u001b[0;32m-> 1114\u001b[0m \u001b[43m_to_file\u001b[49m\u001b[43m(\u001b[49m\u001b[38;5;28;43mself\u001b[39;49m\u001b[43m,\u001b[49m\u001b[43m \u001b[49m\u001b[43mfilename\u001b[49m\u001b[43m,\u001b[49m\u001b[43m \u001b[49m\u001b[43mdriver\u001b[49m\u001b[43m,\u001b[49m\u001b[43m \u001b[49m\u001b[43mschema\u001b[49m\u001b[43m,\u001b[49m\u001b[43m \u001b[49m\u001b[43mindex\u001b[49m\u001b[43m,\u001b[49m\u001b[43m \u001b[49m\u001b[38;5;241;43m*\u001b[39;49m\u001b[38;5;241;43m*\u001b[39;49m\u001b[43mkwargs\u001b[49m\u001b[43m)\u001b[49m\n",
      "File \u001b[0;32m~/miniconda3/envs/py39/lib/python3.9/site-packages/geopandas/io/file.py:396\u001b[0m, in \u001b[0;36m_to_file\u001b[0;34m(df, filename, driver, schema, index, mode, crs, **kwargs)\u001b[0m\n\u001b[1;32m    392\u001b[0m     crs_wkt \u001b[38;5;241m=\u001b[39m crs\u001b[38;5;241m.\u001b[39mto_wkt(\u001b[38;5;124m\"\u001b[39m\u001b[38;5;124mWKT1_GDAL\u001b[39m\u001b[38;5;124m\"\u001b[39m)\n\u001b[1;32m    393\u001b[0m \u001b[38;5;28;01mwith\u001b[39;00m fiona\u001b[38;5;241m.\u001b[39mopen(\n\u001b[1;32m    394\u001b[0m     filename, mode\u001b[38;5;241m=\u001b[39mmode, driver\u001b[38;5;241m=\u001b[39mdriver, crs_wkt\u001b[38;5;241m=\u001b[39mcrs_wkt, schema\u001b[38;5;241m=\u001b[39mschema, \u001b[38;5;241m*\u001b[39m\u001b[38;5;241m*\u001b[39mkwargs\n\u001b[1;32m    395\u001b[0m ) \u001b[38;5;28;01mas\u001b[39;00m colxn:\n\u001b[0;32m--> 396\u001b[0m     \u001b[43mcolxn\u001b[49m\u001b[38;5;241;43m.\u001b[39;49m\u001b[43mwriterecords\u001b[49m\u001b[43m(\u001b[49m\u001b[43mdf\u001b[49m\u001b[38;5;241;43m.\u001b[39;49m\u001b[43miterfeatures\u001b[49m\u001b[43m(\u001b[49m\u001b[43m)\u001b[49m\u001b[43m)\u001b[49m\n",
      "File \u001b[0;32m~/miniconda3/envs/py39/lib/python3.9/site-packages/fiona/collection.py:361\u001b[0m, in \u001b[0;36mCollection.writerecords\u001b[0;34m(self, records)\u001b[0m\n\u001b[1;32m    359\u001b[0m \u001b[38;5;28;01mif\u001b[39;00m \u001b[38;5;28mself\u001b[39m\u001b[38;5;241m.\u001b[39mmode \u001b[38;5;129;01mnot\u001b[39;00m \u001b[38;5;129;01min\u001b[39;00m (\u001b[38;5;124m'\u001b[39m\u001b[38;5;124ma\u001b[39m\u001b[38;5;124m'\u001b[39m, \u001b[38;5;124m'\u001b[39m\u001b[38;5;124mw\u001b[39m\u001b[38;5;124m'\u001b[39m):\n\u001b[1;32m    360\u001b[0m     \u001b[38;5;28;01mraise\u001b[39;00m \u001b[38;5;167;01mIOError\u001b[39;00m(\u001b[38;5;124m\"\u001b[39m\u001b[38;5;124mcollection not open for writing\u001b[39m\u001b[38;5;124m\"\u001b[39m)\n\u001b[0;32m--> 361\u001b[0m \u001b[38;5;28;43mself\u001b[39;49m\u001b[38;5;241;43m.\u001b[39;49m\u001b[43msession\u001b[49m\u001b[38;5;241;43m.\u001b[39;49m\u001b[43mwriterecs\u001b[49m\u001b[43m(\u001b[49m\u001b[43mrecords\u001b[49m\u001b[43m,\u001b[49m\u001b[43m \u001b[49m\u001b[38;5;28;43mself\u001b[39;49m\u001b[43m)\u001b[49m\n\u001b[1;32m    362\u001b[0m \u001b[38;5;28mself\u001b[39m\u001b[38;5;241m.\u001b[39m_len \u001b[38;5;241m=\u001b[39m \u001b[38;5;28mself\u001b[39m\u001b[38;5;241m.\u001b[39msession\u001b[38;5;241m.\u001b[39mget_length()\n\u001b[1;32m    363\u001b[0m \u001b[38;5;28mself\u001b[39m\u001b[38;5;241m.\u001b[39m_bounds \u001b[38;5;241m=\u001b[39m \u001b[38;5;28;01mNone\u001b[39;00m\n",
      "File \u001b[0;32mfiona/ogrext.pyx:1295\u001b[0m, in \u001b[0;36mfiona.ogrext.WritingSession.writerecs\u001b[0;34m()\u001b[0m\n",
      "\u001b[0;31mRuntimeError\u001b[0m: GDAL Error: sqlite3_exec(CREATE TABLE \"250m\" ( \"fid\" INTEGER PRIMARY KEY AUTOINCREMENT NOT NULL, \"geom\" GEOMETRY, \"index\" INTEGER, \"TARGET\" TEXT, \"CONDITION\" REAL, \"GEOCLIMATI\" TEXT, \"MARXAN_COD\" REAL, \"HECTARES_left\" REAL, \"mangroves_id\" REAL, \"TYPE\" TEXT, \"AREA\" REAL, \"PERIMETER\" REAL, \"Shape_Leng_left\" REAL, \"Shape_Area_left\" REAL, \"Parish\" TEXT, \"index_right\" INTEGER, \"OBJECTID\" INTEGER, \"SOURCE_TYP\" TEXT, \"MXAN_CODE\" REAL, \"AREA_METER\" REAL, \"HECTARES_right\" REAL, \"seagrass_id\" REAL, \"Shape_Leng_right\" REAL, \"PARISH\" TEXT, \"Shape_Length\" REAL, \"Shape_Area_right\" REAL)) failed: duplicate column name: PARISH \n \n Failed to write record: {'id': '0', 'type': 'Feature', 'properties': {'AREA': 23274.596, 'AREA_METER': 64787.477, 'CONDITION': 1.0, 'GEOCLIMATI': 'Moist_Limestone', 'HECTARES_left': 2.327, 'HECTARES_right': 6.479, 'MARXAN_COD': 403.0, 'MXAN_CODE': 405.0, 'OBJECTID': 150, 'PARISH': 'St. James', 'PERIMETER': 667.507, 'Parish': 'St. James', 'SOURCE_TYP': 'Coastal Atlas and expert opinion', 'Shape_Area_left': 23274.5957031, 'Shape_Area_right': 64787.47859614829, 'Shape_Leng_left': 667.507032258, 'Shape_Leng_right': 1679.86380031, 'Shape_Length': 1679.8638003072056, 'TARGET': 'Mangrove', 'TYPE': 'Fringing', 'index': 1, 'index_right': 149, 'mangroves_id': 2.0, 'seagrass_id': 150.0}, 'geometry': {'type': 'Polygon', 'coordinates': (((665154.5087335106, 707969.2373126171), (665171.2910521209, 707951.9038482156), (665186.3243743919, 707933.0333837913), (665199.4686871269, 707912.8016698546), (665210.6015704628, 707891.3971349443), (665219.6193380313, 707869.0191306953), (665226.438002644, 707845.876075171), (665230.9940585092, 707822.1835117588), (665232.4058793919, 707807.1174457284), (665226.5320402335, 707812.4409692475), (665210.0557586309, 707830.6190139836), (665195.4405747892, 707850.3244844717), (665182.8272409184, 707871.3676062587), (665172.3372303188, 707893.5457225787), (665164.0715675268, 707916.6452460475), (665158.1098553935, 707940.4437156268), (665154.509508466, 707964.7119390452), (665154.2774275539, 707969.4341274654), (665154.5087335106, 707969.2373126171)),)}}"
     ]
    }
   ],
   "source": [
    "# Intersect the different buffer layers to find common areas\n",
    "# Buffer distances in meters\n",
    "buffer_distances = [250,500,1000]\n",
    "intersection_layers = [\"mangroves\",\n",
    "                     \"seagrass\",\n",
    "                     \"corals\"]\n",
    "for buffer in buffer_distances:\n",
    "    for i in range(len(intersection_layers)-1):\n",
    "        name_i = intersection_layers[i] \n",
    "        for j in intersection_layers[i+1:]:\n",
    "            name_j = j\n",
    "            layer_i = gpd.read_file(os.path.join(processed_data_path,\n",
    "                                       \"nbs\",\n",
    "                                       f\"{name_i}_buffer.gpkg\"),\n",
    "                                          layer=f\"{buffer}m\")\n",
    "            layer_i.rename(columns={\"ID\":f\"{name_i}_id\"},inplace=True)\n",
    "            layer_j = gpd.read_file(os.path.join(processed_data_path,\n",
    "                                       \"nbs\",\n",
    "                                       f\"{name_j}_buffer.gpkg\"),\n",
    "                                          layer=f\"{buffer}m\")\n",
    "            layer_j.rename(columns={\"ID\":f\"{name_j}_id\"},inplace=True)\n",
    "            common_ij = gpd.sjoin(layer_i,layer_j,\n",
    "                                  how=\"inner\",\n",
    "                                  predicate=\"intersects\").reset_index()\n",
    "            common_ij.rename(columns={\"geometry\":\"layer_i_geometry\"},\n",
    "                             inplace=True)\n",
    "            common_ij = pd.merge(common_ij,\n",
    "                                 layer_j[[f\"{name_j}_id\",\"geometry\"]],\n",
    "                                 how=\"left\",on=[f\"{name_j}_id\"])\n",
    "            common_ij.rename(columns={\"geometry\":\"layer_j_geometry\"},\n",
    "                             inplace=True)\n",
    "            common_ij[\"geometry\"] = common_ij.progress_apply(\n",
    "                lambda x:x.layer_i_geometry.intersection(x.layer_j_geometry)\n",
    "                ,axis=1)\n",
    "            common_ij.drop([\"layer_i_geometry\",\"layer_j_geometry\"],\n",
    "                           axis=1,\n",
    "                           inplace=True)\n",
    "            common_ij = gpd.GeoDataFrame(common_ij,\n",
    "                             geometry=\"geometry\",\n",
    "                             crs=f\"EPSG:{epsg_jamaica}\")\n",
    "            common_ij.to_file(os.path.join(processed_data_path,\n",
    "                            \"nbs\",\n",
    "                            f\"{name_i}_{name_j}_intersections.gpkg\"),\n",
    "                            layer=f\"{buffer}m\",\n",
    "                            driver=\"GPKG\")"
   ]
  },
  {
   "cell_type": "code",
   "execution_count": null,
   "id": "f7375883",
   "metadata": {},
   "outputs": [],
   "source": []
  }
 ],
 "metadata": {
  "kernelspec": {
   "display_name": "Python 3 (ipykernel)",
   "language": "python",
   "name": "python3"
  },
  "language_info": {
   "codemirror_mode": {
    "name": "ipython",
    "version": 3
   },
   "file_extension": ".py",
   "mimetype": "text/x-python",
   "name": "python",
   "nbconvert_exporter": "python",
   "pygments_lexer": "ipython3",
   "version": "3.9.7"
  }
 },
 "nbformat": 4,
 "nbformat_minor": 5
}
