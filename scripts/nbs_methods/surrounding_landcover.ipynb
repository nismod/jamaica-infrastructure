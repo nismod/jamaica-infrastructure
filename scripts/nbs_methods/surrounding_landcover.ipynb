{
 "cells": [
  {
   "cell_type": "code",
   "execution_count": null,
   "id": "6cdfd5ba",
   "metadata": {},
   "outputs": [],
   "source": [
    "import os\n",
    "\n",
    "import geopandas\n",
    "\n",
    "from surrounding_landcover import CLASS_GROUPS, buffer_and_summarise, select_cell, select_halo, convert_m2_to_ha"
   ]
  },
  {
   "cell_type": "code",
   "execution_count": null,
   "id": "517318c9",
   "metadata": {},
   "outputs": [],
   "source": [
    "# In Europe 40% of woodlands are intermingled with natural / semi-natural non-forested lands, agriculture and artificial lands in 1km2 surroundings\n",
    "\n",
    "# In EU, forest edges are mainly (60%) along intensive land uses"
   ]
  },
  {
   "cell_type": "code",
   "execution_count": null,
   "id": "6da8c19f",
   "metadata": {},
   "outputs": [],
   "source": [
    "base_path = \"/home/mert2014/data/jamaica-local/incoming/Terrestrial Land Cover (From Forestry Department)\"\n",
    "output_path = \"/home/mert2014/data/jamaica-local/results/nbs\""
   ]
  },
  {
   "cell_type": "code",
   "execution_count": null,
   "id": "97584693",
   "metadata": {},
   "outputs": [],
   "source": [
    "intermediate_results = os.path.join(output_path, \"Buffer_intersections\")\n",
    "if not os.path.exists(intermediate_results):\n",
    "    os.mkdir(intermediate_results)"
   ]
  },
  {
   "cell_type": "code",
   "execution_count": null,
   "id": "fe2e588b",
   "metadata": {},
   "outputs": [],
   "source": [
    "def plot(df):\n",
    "    return df.plot(column='landcover_class', legend=True, legend_kwds={'bbox_to_anchor': (2.3, 1)})"
   ]
  },
  {
   "cell_type": "code",
   "execution_count": null,
   "id": "c163f1b5",
   "metadata": {},
   "outputs": [],
   "source": [
    "landcover = geopandas.read_file(os.path.join(base_path, \"2013_landuse_landcover_split_1k.gpkg\"))\n",
    "landcover = landcover[[\"OBJECTID\", \"geometry\", \"Classify\", \"index_i\", \"index_j\"]]\n",
    "landcover.rename(columns={\"OBJECTID\": \"landcover_id\", \"Classify\": \"landcover_class\"}, inplace=True)\n",
    "landcover['area_ha'] = convert_m2_to_ha(landcover.geometry.area)"
   ]
  },
  {
   "cell_type": "code",
   "execution_count": null,
   "id": "39f0c151",
   "metadata": {},
   "outputs": [],
   "source": [
    "subset = landcover[(landcover.index_i < 25) & (landcover.index_j < 30)]\n",
    "# cell_indices = landcover.apply(lambda row: (row.index_i, row.index_j), axis=1).unique()\n",
    "cell_indices = subset.apply(lambda row: (row.index_i, row.index_j), axis=1).unique()"
   ]
  },
  {
   "cell_type": "code",
   "execution_count": null,
   "id": "d3981e13",
   "metadata": {},
   "outputs": [],
   "source": [
    "plot(subset)"
   ]
  },
  {
   "cell_type": "code",
   "execution_count": null,
   "id": "97319335",
   "metadata": {},
   "outputs": [],
   "source": [
    "class_group = \"secondary-forest\"\n",
    "classes = CLASS_GROUPS[class_group]\n",
    "buffer_distance = 100\n",
    "group_buffer_summary, group_buffer_surroundings = buffer_and_summarise(landcover, cell_indices, class_group, classes, buffer_distance)\n",
    "    "
   ]
  },
  {
   "cell_type": "code",
   "execution_count": null,
   "id": "c88dcb51",
   "metadata": {},
   "outputs": [],
   "source": [
    "plot(select_halo(landcover, 1, 28))"
   ]
  },
  {
   "cell_type": "code",
   "execution_count": null,
   "id": "50b9a662",
   "metadata": {},
   "outputs": [],
   "source": [
    "plot(select_halo(group_buffer_surroundings, 1, 28))"
   ]
  }
 ],
 "metadata": {
  "kernelspec": {
   "display_name": "Python 3 (ipykernel)",
   "language": "python",
   "name": "python3"
  },
  "language_info": {
   "codemirror_mode": {
    "name": "ipython",
    "version": 3
   },
   "file_extension": ".py",
   "mimetype": "text/x-python",
   "name": "python",
   "nbconvert_exporter": "python",
   "pygments_lexer": "ipython3",
   "version": "3.11.3"
  }
 },
 "nbformat": 4,
 "nbformat_minor": 5
}
