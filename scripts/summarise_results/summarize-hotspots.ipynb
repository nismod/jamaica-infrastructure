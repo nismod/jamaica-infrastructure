{
 "cells": [
  {
   "cell_type": "markdown",
   "id": "8709f9e9",
   "metadata": {},
   "source": [
    "# Summarise risk results for given hotspots\n",
    "\n",
    "For each \"hotspot\" area:\n",
    "- Value of direct cost for each single element of all infrastructure typology and for each single hazard\n",
    "- Value of economic losses for each single element of all infrastructure typology and for each single hazard\n",
    "- Population in numbers\n",
    "- Area\n",
    "- Population density (Average)\n",
    "- Population and Businesses affected, disaggregated for infrastructure and hazard (if it possible for both cumulative economic losses and individual economic losses).\n"
   ]
  },
  {
   "cell_type": "code",
   "execution_count": null,
   "id": "f2982494",
   "metadata": {},
   "outputs": [],
   "source": [
    "import json\n",
    "import os\n",
    "from glob import glob\n",
    "\n",
    "import geopandas\n",
    "import pandas"
   ]
  },
  {
   "cell_type": "code",
   "execution_count": null,
   "id": "d0048aba",
   "metadata": {},
   "outputs": [],
   "source": [
    "from summarise_utils import load_config"
   ]
  },
  {
   "cell_type": "code",
   "execution_count": null,
   "id": "46e72eae",
   "metadata": {},
   "outputs": [],
   "source": [
    "base_path = load_config()['paths']['data']"
   ]
  },
  {
   "cell_type": "markdown",
   "id": "56ff686c",
   "metadata": {},
   "source": [
    "## Read hotspot areas"
   ]
  },
  {
   "cell_type": "code",
   "execution_count": null,
   "id": "9dd560b4",
   "metadata": {},
   "outputs": [],
   "source": [
    "hotspots_path = os.path.join(base_path, \"Incoming Data/ADN/Hotspot.shp\")\n",
    "hotspots_4326 = geopandas.read_file(hotspots_path) \\\n",
    "    .drop(columns=[\"Shape_Leng\", \"Shape_Area\"]) \\\n",
    "    .rename(columns={\"Shape_Area\":\"hotspot_area\",\"Number\": \"hotspot_number\"}) \n",
    "hotspots = hotspots_4326 \\\n",
    "    .to_crs(3448) # JAD2001 Jamaica metric grid EPSG:3448"
   ]
  },
  {
   "cell_type": "markdown",
   "id": "62c9f996",
   "metadata": {},
   "source": [
    "## Read infrastructure and damages"
   ]
  },
  {
   "cell_type": "code",
   "execution_count": null,
   "id": "b64be058",
   "metadata": {},
   "outputs": [],
   "source": [
    "expected_paths = sorted(p for p in glob(os.path.join(base_path, \"results/direct_damages_summary_uids/*EAD*\")) if \"buildings\" not in p)"
   ]
  },
  {
   "cell_type": "code",
   "execution_count": null,
   "id": "a4652092",
   "metadata": {},
   "outputs": [],
   "source": [
    "paths = {os.path.basename(p).replace(\"_EAD_EAEL.parquet\", \"\"): {\"ead\":p} for p in expected_paths}"
   ]
  },
  {
   "cell_type": "code",
   "execution_count": null,
   "id": "35b519dd",
   "metadata": {},
   "outputs": [],
   "source": [
    "for p in glob(os.path.join(base_path, \"processed_data/networks_uids/*/*.gpkg\")):\n",
    "    if \"buildings\" not in p:\n",
    "        key = os.path.basename(p).replace(\".gpkg\", \"\")\n",
    "        if f\"{key}_nodes\" in paths:\n",
    "            paths[f\"{key}_nodes\"][\"net\"] = p\n",
    "            paths[f\"{key}_nodes\"][\"layer\"] = \"nodes\"\n",
    "        if f\"{key}_edges\" in paths:\n",
    "            paths[f\"{key}_edges\"][\"net\"] = p\n",
    "            paths[f\"{key}_edges\"][\"layer\"] = \"edges\"\n",
    "        if f\"{key}_areas\" in paths:\n",
    "            paths[f\"{key}_areas\"][\"net\"] = p\n",
    "            paths[f\"{key}_areas\"][\"layer\"] = \"areas\""
   ]
  },
  {
   "cell_type": "code",
   "execution_count": null,
   "id": "dcd7e232",
   "metadata": {},
   "outputs": [],
   "source": [
    "for key, p in paths.items():\n",
    "    if key == \"roads_edges\":        \n",
    "        network = geopandas.read_file(p[\"net\"], layer=p[\"layer\"]).to_crs(3448)\n",
    "        network = network[[\"uid\", \"road_class\", \"geometry\"]].rename(columns={\"road_class\": \"asset_type\"})\n",
    "    elif key == \"electricity_network_v3.1_nodes\":\n",
    "        network = geopandas.read_file(p[\"net\"], layer=p[\"layer\"]).to_crs(3448)\n",
    "        network = network[[\"uid\", \"subtype\", \"geometry\"]].rename(columns={\"subtype\": \"asset_type\"})\n",
    "    else:\n",
    "        continue\n",
    "        network = geopandas.read_file(p[\"net\"], layer=p[\"layer\"]).to_crs(3448)\n",
    "        network = network[[\"uid\", \"asset_type\", \"geometry\"]]\n",
    "    \n",
    "    network_hotspot = network.sjoin(hotspots, how=\"inner\", predicate='intersects')[[\"uid\", \"asset_type\", \"hotspot_number\"]].set_index(\"uid\")\n",
    "    damages = pandas.read_parquet(p[\"ead\"]).set_index(\"uid\").join(network_hotspot, how='inner')\n",
    "    hotspot_damages = damages.groupby([\"hotspot_number\", \"asset_type\", \"hazard\", \"rcp\", \"epoch\"]).sum()\n",
    "    hotspot_damages[\"sector\"] = key\n",
    "    hotspot_damages.to_csv(f\"{key}__hotspot_damages.csv\")"
   ]
  },
  {
   "cell_type": "markdown",
   "id": "cf78e31a",
   "metadata": {},
   "source": [
    "## Read population"
   ]
  },
  {
   "cell_type": "code",
   "execution_count": null,
   "id": "3b23462a",
   "metadata": {},
   "outputs": [],
   "source": [
    "pop = geopandas.read_file(os.path.join(base_path, \"processed_data/population/population.gpkg\"), layer=\"admin3\")"
   ]
  },
  {
   "cell_type": "code",
   "execution_count": null,
   "id": "9943e666",
   "metadata": {},
   "outputs": [],
   "source": [
    "hotspots[\"area_km2\"] = hotspots.geometry.apply(lambda g: g.area / 1e6)"
   ]
  },
  {
   "cell_type": "code",
   "execution_count": null,
   "id": "d8b32cec",
   "metadata": {},
   "outputs": [],
   "source": [
    "hotspot_pop = pop.overlay(hotspots, how='intersection').groupby(\"hotspot_number\").sum()[[\"population\"]]\n",
    "hotspot_pop = hotspots.set_index(\"hotspot_number\").join(hotspot_pop).drop(columns=\"geometry\")"
   ]
  },
  {
   "cell_type": "code",
   "execution_count": null,
   "id": "de7f724d",
   "metadata": {},
   "outputs": [],
   "source": [
    "hotspot_pop[\"population_per_km2\"] = hotspot_pop.population / hotspot_pop.area_km2"
   ]
  },
  {
   "cell_type": "code",
   "execution_count": null,
   "id": "18b3c2e6",
   "metadata": {},
   "outputs": [],
   "source": [
    "hotspot_pop.to_csv(\"population__hotspot.csv\")"
   ]
  }
 ],
 "metadata": {
  "kernelspec": {
   "display_name": "Python 3 (ipykernel)",
   "language": "python",
   "name": "python3"
  },
  "language_info": {
   "codemirror_mode": {
    "name": "ipython",
    "version": 3
   },
   "file_extension": ".py",
   "mimetype": "text/x-python",
   "name": "python",
   "nbconvert_exporter": "python",
   "pygments_lexer": "ipython3",
   "version": "3.10.5"
  }
 },
 "nbformat": 4,
 "nbformat_minor": 5
}
