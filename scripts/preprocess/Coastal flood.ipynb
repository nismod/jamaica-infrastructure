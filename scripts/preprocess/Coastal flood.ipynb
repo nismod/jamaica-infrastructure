{
 "cells": [
  {
   "cell_type": "code",
   "execution_count": 1,
   "id": "cd189fd2",
   "metadata": {},
   "outputs": [
    {
     "name": "stderr",
     "output_type": "stream",
     "text": [
      "/Users/raghavpant/miniconda3/envs/py39/lib/python3.9/site-packages/geopandas/_compat.py:111: UserWarning: The Shapely GEOS version (3.9.1-CAPI-1.14.2) is incompatible with the GEOS version PyGEOS was compiled with (3.10.1-CAPI-1.16.0). Conversions between both will be slow.\n",
      "  warnings.warn(\n"
     ]
    }
   ],
   "source": [
    "import os\n",
    "from glob import glob\n",
    "import geopandas\n",
    "import pandas\n",
    "import subprocess"
   ]
  },
  {
   "cell_type": "code",
   "execution_count": 2,
   "id": "dd674ea5",
   "metadata": {},
   "outputs": [],
   "source": [
    "base_path = '/Users/raghavpant/Desktop/Jamaica_project/processed_data'\n",
    "output_path = '/Users/raghavpant/Desktop/Jamaica_project/results'"
   ]
  },
  {
   "cell_type": "code",
   "execution_count": 3,
   "id": "04b025eb",
   "metadata": {},
   "outputs": [],
   "source": [
    "# Create a path to store intersection outputs\n",
    "output_path = os.path.join(output_path,\"coastal_flood_intersections\")\n",
    "if os.path.exists(output_path) == False:\n",
    "    os.mkdir(output_path)"
   ]
  },
  {
   "cell_type": "code",
   "execution_count": 4,
   "id": "b370a324",
   "metadata": {},
   "outputs": [],
   "source": [
    "vector_details_csv = os.path.join(base_path,\"networks\",\"network_layers_FN.csv\")\n",
    "raster_details_csv = os.path.join(base_path,\"hazards\",\"hazard_layers_FN.csv\")"
   ]
  },
  {
   "cell_type": "code",
   "execution_count": 7,
   "id": "c0657f24",
   "metadata": {},
   "outputs": [
    {
     "name": "stdout",
     "output_type": "stream",
     "text": [
      "* Start the processing of vector-raster intersections\n",
      "['python', 'vector_raster_intersections.py', '/Users/raghavpant/Desktop/Jamaica_project/processed_data/networks/network_layers_FN.csv', '/Users/raghavpant/Desktop/Jamaica_project/processed_data/hazards/hazard_layers_FN.csv', '/Users/raghavpant/Desktop/Jamaica_project/results/coastal_flood_intersections']\n"
     ]
    },
    {
     "name": "stderr",
     "output_type": "stream",
     "text": [
      "/Users/raghavpant/miniconda3/envs/py39/lib/python3.9/site-packages/geopandas/_compat.py:111: UserWarning: The Shapely GEOS version (3.9.1-CAPI-1.14.2) is incompatible with the GEOS version PyGEOS was compiled with (3.10.1-CAPI-1.16.0). Conversions between both will be slow.\n",
      "  warnings.warn(\n",
      "2023-05-25 15:51:39,250 Start.\n",
      "2023-05-25 15:51:39,437 Processing airport_polygon.gpkg\n",
      "2023-05-25 15:51:39,468 Layers: ['areas']\n",
      "2023-05-25 15:51:39,575 Area CRS epsg:4326\n",
      "/Users/raghavpant/Desktop/git_projects/jamaica-infrastructure/scripts/preprocess/vector_raster_intersections.py:259: ShapelyDeprecationWarning: Iteration over multi-part geometries is deprecated and will be removed in Shapely 2.0. Use the `geoms` property to access the constituent parts of a multi-part geometry.\n",
      "  for part in item.geometry:\n",
      "100%|██████████| 9/9 [00:00<00:00, 198.40it/s]\n",
      "2023-05-25 15:51:39,702   Split 9 areas into 81 pieces\n",
      "100%|██████████| 81/81 [00:00<00:00, 5491.52it/s]\n",
      "100%|██████████| 81/81 [00:00<00:00, 955.71it/s]\n",
      "2023-05-25 15:51:39,840   Split 81 areas into 42 pieces\n",
      "100%|██████████| 42/42 [00:00<00:00, 6790.56it/s]\n",
      "100%|██████████| 42/42 [00:00<00:00, 1227.24it/s]\n",
      "2023-05-25 15:51:39,906   Split 42 areas into 42 pieces\n",
      "100%|██████████| 42/42 [00:00<00:00, 7050.66it/s]\n",
      "2023-05-25 15:51:39,928 Hazard coastal_mangrove__rp_25__rcp_baseline__epoch_2010__conf_None transform 0\n",
      "2023-05-25 15:51:39,943 Hazard coastal_nomangrove__rp_25__rcp_baseline__epoch_2010__conf_None transform 0\n",
      "2023-05-25 15:51:39,947 Hazard coastal_mangrove__rp_100__rcp_baseline__epoch_2010__conf_None transform 1\n",
      "2023-05-25 15:51:39,951 Hazard coastal_nomangrove__rp_100__rcp_baseline__epoch_2010__conf_None transform 1\n",
      "2023-05-25 15:51:39,954 Hazard coastal_mangrove__rp_500__rcp_baseline__epoch_2010__conf_None transform 2\n",
      "2023-05-25 15:51:39,960 Hazard coastal_nomangrove__rp_500__rcp_baseline__epoch_2010__conf_None transform 2\n",
      "2023-05-25 15:51:40,085 Processing port_polygon.gpkg\n",
      "2023-05-25 15:51:40,091 Layers: ['areas']\n",
      "2023-05-25 15:51:40,106 Area CRS epsg:4326\n",
      "/Users/raghavpant/Desktop/git_projects/jamaica-infrastructure/scripts/preprocess/vector_raster_intersections.py:259: ShapelyDeprecationWarning: Iteration over multi-part geometries is deprecated and will be removed in Shapely 2.0. Use the `geoms` property to access the constituent parts of a multi-part geometry.\n",
      "  for part in item.geometry:\n",
      "100%|██████████| 30/30 [00:00<00:00, 472.88it/s]\n",
      "2023-05-25 15:51:40,187   Split 30 areas into 165 pieces\n",
      "100%|██████████| 165/165 [00:00<00:00, 7880.44it/s]\n",
      "100%|██████████| 165/165 [00:00<00:00, 1013.17it/s]\n",
      "2023-05-25 15:51:40,402   Split 165 areas into 79 pieces\n",
      "100%|██████████| 79/79 [00:00<00:00, 8016.21it/s]\n",
      "100%|██████████| 79/79 [00:00<00:00, 1374.90it/s]\n",
      "2023-05-25 15:51:40,495   Split 79 areas into 82 pieces\n",
      "100%|██████████| 82/82 [00:00<00:00, 8047.85it/s]\n",
      "2023-05-25 15:51:40,522 Hazard coastal_mangrove__rp_25__rcp_baseline__epoch_2010__conf_None transform 0\n",
      "2023-05-25 15:51:40,526 Hazard coastal_nomangrove__rp_25__rcp_baseline__epoch_2010__conf_None transform 0\n",
      "2023-05-25 15:51:40,529 Hazard coastal_mangrove__rp_100__rcp_baseline__epoch_2010__conf_None transform 1\n",
      "2023-05-25 15:51:40,532 Hazard coastal_nomangrove__rp_100__rcp_baseline__epoch_2010__conf_None transform 1\n",
      "2023-05-25 15:51:40,535 Hazard coastal_mangrove__rp_500__rcp_baseline__epoch_2010__conf_None transform 2\n",
      "2023-05-25 15:51:40,538 Hazard coastal_nomangrove__rp_500__rcp_baseline__epoch_2010__conf_None transform 2\n",
      "2023-05-25 15:51:40,561 Processing rail.gpkg\n",
      "2023-05-25 15:51:40,568 Layers: ['edges', 'nodes']\n",
      "2023-05-25 15:51:40,614 Node CRS epsg:3448\n",
      "100%|██████████| 167/167 [00:00<00:00, 10153.79it/s]\n",
      "100%|██████████| 167/167 [00:00<00:00, 10592.48it/s]\n",
      "100%|██████████| 167/167 [00:00<00:00, 10540.20it/s]\n",
      "2023-05-25 15:51:40,777 Hazard coastal_mangrove__rp_25__rcp_baseline__epoch_2010__conf_None transform 0\n",
      "2023-05-25 15:51:40,781 Hazard coastal_nomangrove__rp_25__rcp_baseline__epoch_2010__conf_None transform 0\n",
      "2023-05-25 15:51:40,784 Hazard coastal_mangrove__rp_100__rcp_baseline__epoch_2010__conf_None transform 1\n",
      "2023-05-25 15:51:40,787 Hazard coastal_nomangrove__rp_100__rcp_baseline__epoch_2010__conf_None transform 1\n",
      "2023-05-25 15:51:40,790 Hazard coastal_mangrove__rp_500__rcp_baseline__epoch_2010__conf_None transform 2\n",
      "2023-05-25 15:51:40,794 Hazard coastal_nomangrove__rp_500__rcp_baseline__epoch_2010__conf_None transform 2\n",
      "2023-05-25 15:51:40,896 Edge CRS epsg:3448\n",
      "2023-05-25 15:51:40,956 LineString    188\n",
      "Name: geometry, dtype: int64\n",
      "100%|██████████| 188/188 [00:00<00:00, 259.88it/s]\n",
      "2023-05-25 15:51:41,759 Split 188 edges into 1848 pieces\n",
      "100%|██████████| 1848/1848 [00:00<00:00, 7104.63it/s]\n",
      "100%|██████████| 1848/1848 [00:00<00:00, 1901.72it/s]\n",
      "2023-05-25 15:51:43,153 Split 1848 edges into 3055 pieces\n",
      "100%|██████████| 3055/3055 [00:00<00:00, 7378.07it/s]\n",
      "100%|██████████| 3055/3055 [00:01<00:00, 2767.57it/s]\n",
      "2023-05-25 15:51:44,883 Split 3055 edges into 4286 pieces\n",
      "100%|██████████| 4286/4286 [00:00<00:00, 7571.33it/s]\n",
      "2023-05-25 15:51:45,662 Hazard coastal_mangrove__rp_25__rcp_baseline__epoch_2010__conf_None transform 0\n",
      "2023-05-25 15:51:45,669 Hazard coastal_nomangrove__rp_25__rcp_baseline__epoch_2010__conf_None transform 0\n",
      "2023-05-25 15:51:45,675 Hazard coastal_mangrove__rp_100__rcp_baseline__epoch_2010__conf_None transform 1\n",
      "2023-05-25 15:51:45,681 Hazard coastal_nomangrove__rp_100__rcp_baseline__epoch_2010__conf_None transform 1\n",
      "2023-05-25 15:51:45,687 Hazard coastal_mangrove__rp_500__rcp_baseline__epoch_2010__conf_None transform 2\n",
      "2023-05-25 15:51:45,693 Hazard coastal_nomangrove__rp_500__rcp_baseline__epoch_2010__conf_None transform 2\n",
      "2023-05-25 15:51:45,753 Processing roads.gpkg\n",
      "2023-05-25 15:51:45,761 Layers: ['edges', 'nodes']\n",
      "2023-05-25 15:51:53,234 Node CRS epsg:3448\n",
      "100%|██████████| 85065/85065 [00:07<00:00, 10802.59it/s]\n",
      "100%|██████████| 85065/85065 [00:07<00:00, 10976.95it/s]\n",
      "100%|██████████| 85065/85065 [00:07<00:00, 10991.74it/s]\n",
      "2023-05-25 15:52:17,493 Hazard coastal_mangrove__rp_25__rcp_baseline__epoch_2010__conf_None transform 0\n",
      "2023-05-25 15:52:17,543 Hazard coastal_nomangrove__rp_25__rcp_baseline__epoch_2010__conf_None transform 0\n",
      "2023-05-25 15:52:17,590 Hazard coastal_mangrove__rp_100__rcp_baseline__epoch_2010__conf_None transform 1\n",
      "2023-05-25 15:52:17,638 Hazard coastal_nomangrove__rp_100__rcp_baseline__epoch_2010__conf_None transform 1\n",
      "2023-05-25 15:52:17,686 Hazard coastal_mangrove__rp_500__rcp_baseline__epoch_2010__conf_None transform 2\n",
      "2023-05-25 15:52:17,733 Hazard coastal_nomangrove__rp_500__rcp_baseline__epoch_2010__conf_None transform 2\n",
      "2023-05-25 15:52:28,231 Edge CRS epsg:3448\n",
      "2023-05-25 15:52:46,514 LineString    96857\n",
      "Name: geometry, dtype: int64\n",
      "100%|██████████| 96857/96857 [00:24<00:00, 3982.17it/s]\n",
      "2023-05-25 15:53:21,757 Split 96857 edges into 183887 pieces\n",
      "100%|██████████| 183887/183887 [00:24<00:00, 7539.43it/s] \n",
      "100%|██████████| 183887/183887 [00:37<00:00, 4965.83it/s]\n",
      "2023-05-25 15:54:31,943 Split 183887 edges into 251669 pieces\n",
      "100%|██████████| 251669/251669 [00:33<00:00, 7412.54it/s] \n",
      "100%|██████████| 251669/251669 [00:46<00:00, 5356.95it/s]\n",
      "2023-05-25 15:56:04,682 Split 251669 edges into 320909 pieces\n",
      "100%|██████████| 320909/320909 [00:42<00:00, 7550.63it/s] \n",
      "2023-05-25 15:57:01,102 Hazard coastal_mangrove__rp_25__rcp_baseline__epoch_2010__conf_None transform 0\n",
      "2023-05-25 15:57:01,290 Hazard coastal_nomangrove__rp_25__rcp_baseline__epoch_2010__conf_None transform 0\n",
      "2023-05-25 15:57:01,468 Hazard coastal_mangrove__rp_100__rcp_baseline__epoch_2010__conf_None transform 1\n",
      "2023-05-25 15:57:01,648 Hazard coastal_nomangrove__rp_100__rcp_baseline__epoch_2010__conf_None transform 1\n",
      "2023-05-25 15:57:01,828 Hazard coastal_mangrove__rp_500__rcp_baseline__epoch_2010__conf_None transform 2\n",
      "2023-05-25 15:57:02,010 Hazard coastal_nomangrove__rp_500__rcp_baseline__epoch_2010__conf_None transform 2\n",
      "2023-05-25 15:57:05,113 Done.\n"
     ]
    },
    {
     "name": "stdout",
     "output_type": "stream",
     "text": [
      "* Done with the processing of vector-raster intersections\n"
     ]
    }
   ],
   "source": [
    "run_intersections = True  # Set to True is you want to run this process\n",
    "if run_intersections is True:\n",
    "    args = [\n",
    "            \"python\",\n",
    "            \"vector_raster_intersections.py\",\n",
    "            f\"{vector_details_csv}\",\n",
    "            f\"{raster_details_csv}\",\n",
    "            f\"{output_path}\"\n",
    "            ]\n",
    "    print (\"* Start the processing of vector-raster intersections\")\n",
    "    print (args)\n",
    "    subprocess.run(args)\n",
    "print (\"* Done with the processing of vector-raster intersections\")"
   ]
  },
  {
   "cell_type": "code",
   "execution_count": null,
   "id": "dc5caaf9",
   "metadata": {},
   "outputs": [],
   "source": []
  }
 ],
 "metadata": {
  "kernelspec": {
   "display_name": "Python 3 (ipykernel)",
   "language": "python",
   "name": "python3"
  },
  "language_info": {
   "codemirror_mode": {
    "name": "ipython",
    "version": 3
   },
   "file_extension": ".py",
   "mimetype": "text/x-python",
   "name": "python",
   "nbconvert_exporter": "python",
   "pygments_lexer": "ipython3",
   "version": "3.9.10"
  }
 },
 "nbformat": 4,
 "nbformat_minor": 5
}
