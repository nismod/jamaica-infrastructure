{
 "cells": [
  {
   "cell_type": "code",
   "execution_count": null,
   "id": "f90f4e77",
   "metadata": {},
   "outputs": [],
   "source": [
    "import os\n",
    "from glob import glob\n",
    "\n",
    "import fiona\n",
    "import geopandas\n",
    "import numpy as np\n",
    "import rasterio\n",
    "import rasterstats"
   ]
  },
  {
   "cell_type": "code",
   "execution_count": null,
   "id": "bb44daa3",
   "metadata": {},
   "outputs": [],
   "source": [
    "from preprocess_utils import load_config\n",
    "CONFIG = load_config()\n",
    "CONFIG['paths']"
   ]
  },
  {
   "cell_type": "code",
   "execution_count": null,
   "id": "bd7eb496",
   "metadata": {},
   "outputs": [],
   "source": [
    "boundaries_fname = os.path.join(CONFIG['paths']['data'], 'boundaries', 'admin_boundaries.gpkg')"
   ]
  },
  {
   "cell_type": "code",
   "execution_count": null,
   "id": "1319990e",
   "metadata": {},
   "outputs": [],
   "source": [
    "for layer in fiona.listlayers(boundaries_fname):\n",
    "    print(geopandas.read_file(boundaries_fname, layer=layer).head(1))"
   ]
  },
  {
   "cell_type": "code",
   "execution_count": null,
   "id": "8099ea23",
   "metadata": {},
   "outputs": [],
   "source": [
    "parishes = geopandas.read_file(boundaries_fname, layer='admin1')\n",
    "parishes.crs"
   ]
  },
  {
   "cell_type": "code",
   "execution_count": null,
   "id": "a58c5ee8",
   "metadata": {},
   "outputs": [],
   "source": [
    "adm1 = geopandas.read_file(boundaries_fname, layer='admin1') \\\n",
    "    .to_crs(\"EPSG:4326\")\n",
    "adm1['SOURCE_POP'] = adm1.POP2001"
   ]
  },
  {
   "cell_type": "code",
   "execution_count": null,
   "id": "191dd5db",
   "metadata": {},
   "outputs": [],
   "source": [
    "adm2 = geopandas.read_file(boundaries_fname, layer='admin2') \\\n",
    "    .to_crs(\"EPSG:4326\")\n",
    "adm2['SOURCE_POP'] = adm2.POP2001_"
   ]
  },
  {
   "cell_type": "code",
   "execution_count": null,
   "id": "298551d8",
   "metadata": {},
   "outputs": [],
   "source": [
    "adm3 = geopandas.read_file(boundaries_fname, layer='admin3') \\\n",
    "    .to_crs(\"EPSG:4326\")\n",
    "adm3['SOURCE_POP'] = adm3.TOTAL_MLE + adm3.TOTAL_FMLE"
   ]
  },
  {
   "cell_type": "code",
   "execution_count": null,
   "id": "f5c05e92",
   "metadata": {},
   "outputs": [],
   "source": [
    "def add_pop(boundaries):\n",
    "    for year in [2001, 2011, 2020]:\n",
    "        pop_fname = os.path.join(CONFIG['paths']['incoming_data'], 'worldpop', f'jam_ppp_{year}.tif')\n",
    "        colname = f\"pop_{year}\"\n",
    "        boundaries[colname] = [\n",
    "            stats['sum'] for stats in\n",
    "            rasterstats.gen_zonal_stats(boundaries.geometry, pop_fname, stats='sum')\n",
    "        ]\n",
    "    boundaries['abs_diff'] = np.abs(boundaries['SOURCE_POP'] - boundaries['pop_2001'])\n",
    "    boundaries['rel_diff'] = np.abs(boundaries['SOURCE_POP'] - boundaries['pop_2001']) / boundaries['pop_2001']\n",
    "    \n",
    "    print(boundaries.rel_diff.describe())\n",
    "    print(\"\")\n",
    "    print(boundaries[['pop_2001', 'pop_2011', 'pop_2020', 'SOURCE_POP']].sum())\n",
    "    print(\"\\n\")    \n",
    "    \n",
    "    return boundaries"
   ]
  },
  {
   "cell_type": "code",
   "execution_count": null,
   "id": "7b7a11ad",
   "metadata": {},
   "outputs": [],
   "source": [
    "adm1_pop = add_pop(adm1)"
   ]
  },
  {
   "cell_type": "code",
   "execution_count": null,
   "id": "16fa2e62",
   "metadata": {},
   "outputs": [],
   "source": [
    "adm2_pop = add_pop(adm2)"
   ]
  },
  {
   "cell_type": "code",
   "execution_count": null,
   "id": "45b46451",
   "metadata": {},
   "outputs": [],
   "source": [
    "adm3_pop = add_pop(adm3)"
   ]
  },
  {
   "cell_type": "code",
   "execution_count": null,
   "id": "416c12ad",
   "metadata": {},
   "outputs": [],
   "source": [
    "output = adm3_pop[['ED_CLASS', 'ED_ID', 'PARISH', 'CONST_NAME', 'ED', 'TOTAL_POP', 'pop_2020', 'geometry']] \\\n",
    "    .copy() \\\n",
    "    .to_crs(\"EPSG:3448\")"
   ]
  },
  {
   "cell_type": "code",
   "execution_count": null,
   "id": "455f0e77",
   "metadata": {},
   "outputs": [],
   "source": [
    "output.to_file(\n",
    "    os.path.join(CONFIG['paths']['data'], 'population', 'population.gpkg'), \n",
    "    layer='admin3', \n",
    "    driver='GPKG')"
   ]
  }
 ],
 "metadata": {
  "kernelspec": {
   "display_name": "Python 3.7.10 64-bit ('base': conda)",
   "language": "python",
   "name": "python3710jvsc74a57bd08fabb4aabbd013c4a3af706de0a2797193fac5e36bbb7a567a62ac39eeceb6c9"
  },
  "language_info": {
   "codemirror_mode": {
    "name": "ipython",
    "version": 3
   },
   "file_extension": ".py",
   "mimetype": "text/x-python",
   "name": "python",
   "nbconvert_exporter": "python",
   "pygments_lexer": "ipython3",
   "version": "3.7.10"
  }
 },
 "nbformat": 4,
 "nbformat_minor": 5
}
