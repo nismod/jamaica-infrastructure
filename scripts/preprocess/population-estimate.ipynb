{
 "cells": [
  {
   "cell_type": "markdown",
   "id": "6f4c769b",
   "metadata": {},
   "source": [
    "# Re-estimate total population\n",
    "\n",
    "Take ADM3 enumeration districts with population estimates from 2011, sum across columns and take the maximum estimated population out of:\n",
    "1. total as reported\n",
    "2. total male plus total female\n",
    "3. total of age/gender breakdown columns\n",
    "\n",
    "This fixes several EDs having zero values for total population"
   ]
  },
  {
   "cell_type": "code",
   "execution_count": null,
   "id": "5d68b384",
   "metadata": {},
   "outputs": [],
   "source": [
    "import os\n",
    "\n",
    "import geopandas"
   ]
  },
  {
   "cell_type": "code",
   "execution_count": null,
   "id": "4fd692f5",
   "metadata": {},
   "outputs": [],
   "source": [
    "from preprocess_utils import load_config\n",
    "CONFIG = load_config()\n",
    "CONFIG['paths']"
   ]
  },
  {
   "cell_type": "code",
   "execution_count": null,
   "id": "0532438c",
   "metadata": {},
   "outputs": [],
   "source": [
    "boundaries_fname = os.path.join(CONFIG['paths']['data'], 'boundaries', 'admin_boundaries.gpkg')"
   ]
  },
  {
   "cell_type": "code",
   "execution_count": null,
   "id": "47bcd639",
   "metadata": {},
   "outputs": [],
   "source": [
    "adm3 = geopandas.read_file(boundaries_fname, layer='admin3')"
   ]
  },
  {
   "cell_type": "code",
   "execution_count": null,
   "id": "ee79e022",
   "metadata": {},
   "outputs": [],
   "source": [
    "adm3.columns"
   ]
  },
  {
   "cell_type": "code",
   "execution_count": null,
   "id": "a1b0c379",
   "metadata": {},
   "outputs": [],
   "source": [
    "adm3['total_gender'] = adm3.TOTAL_MLE + adm3.TOTAL_FMLE\n",
    "adm3['total_age'] = adm3[[\n",
    "    'F0_4_FMLE', 'F5_9_FMLE', 'F10_14_FMLE', 'F15_19_FMLE',\n",
    "    'F20_24_FMLE', 'F25_29_FMLE', 'F30_34_FMLE', 'F35_39_FMLE',\n",
    "    'F40_44_FMLE', 'F45_49_FMLE', 'F50_54_FMLE', 'F55_59_FMLE',\n",
    "    'F60_64_FMLE', 'F65_69_FMLE', 'F70_74_FMLE', 'F75_79_FMLE',\n",
    "    'F80_84_FMLE', 'F85_89_FMLE', 'F90_94_FMLE', 'F95__FMLE',\n",
    "    'F0_4_MLE', 'F5_9_MLE', 'F10_14_MLE', 'F15_19_MLE', 'F20_24_MLE',\n",
    "    'F25_29_MLE', 'F30_34_MLE', 'F35_39_MLE', 'F40_44_MLE', 'F45_49_MLE',\n",
    "    'F50_54_MLE', 'F55_59_MLE', 'F60_64_MLE', 'F65_69_MLE', 'F70_74_MLE',\n",
    "    'F75_79_MLE', 'F80_84_MLE', 'F85_89_MLE', 'F90_94_MLE', 'F95__MLE'\n",
    "]].sum(axis=1)"
   ]
  },
  {
   "cell_type": "code",
   "execution_count": null,
   "id": "a235f466",
   "metadata": {},
   "outputs": [],
   "source": [
    "adm3['population'] = adm3[['TOTAL_POP', 'total_gender','total_age']].max(axis=1)"
   ]
  },
  {
   "cell_type": "code",
   "execution_count": null,
   "id": "4666a502",
   "metadata": {},
   "outputs": [],
   "source": [
    "adm3[['ED', 'TOTAL_POP', 'total_gender','total_age']][adm3.TOTAL_POP == 0]"
   ]
  },
  {
   "cell_type": "code",
   "execution_count": null,
   "id": "9c8e267a",
   "metadata": {},
   "outputs": [],
   "source": [
    "adm3[['ED', 'TOTAL_POP', 'total_gender','total_age']].set_index('ED').sort_values(by='TOTAL_POP').plot()"
   ]
  },
  {
   "cell_type": "code",
   "execution_count": null,
   "id": "23b7a6df",
   "metadata": {},
   "outputs": [],
   "source": [
    "output = adm3[['ED_CLASS', 'ED_ID', 'AREA', 'PERIMETER', 'PARISH', 'CONST_NAME', 'ED', 'population', 'geometry']] \\\n",
    "    .copy()"
   ]
  },
  {
   "cell_type": "code",
   "execution_count": null,
   "id": "d7112ee2",
   "metadata": {},
   "outputs": [],
   "source": [
    "output.to_file(\n",
    "    os.path.join(CONFIG['paths']['data'], 'population', 'population.gpkg'), \n",
    "    layer='admin3', \n",
    "    driver='GPKG')"
   ]
  }
 ],
 "metadata": {
  "kernelspec": {
   "display_name": "Python 3.7.10 64-bit ('base': conda)",
   "language": "python",
   "name": "python3710jvsc74a57bd08fabb4aabbd013c4a3af706de0a2797193fac5e36bbb7a567a62ac39eeceb6c9"
  },
  "language_info": {
   "codemirror_mode": {
    "name": "ipython",
    "version": 3
   },
   "file_extension": ".py",
   "mimetype": "text/x-python",
   "name": "python",
   "nbconvert_exporter": "python",
   "pygments_lexer": "ipython3",
   "version": "3.7.10"
  }
 },
 "nbformat": 4,
 "nbformat_minor": 5
}
